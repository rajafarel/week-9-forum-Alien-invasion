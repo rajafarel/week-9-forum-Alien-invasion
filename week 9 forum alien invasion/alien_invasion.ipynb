{
 "cells": [
  {
   "cell_type": "code",
   "execution_count": 1,
   "metadata": {},
   "outputs": [
    {
     "name": "stdout",
     "output_type": "stream",
     "text": [
      "pygame 2.1.2 (SDL 2.0.18, Python 3.10.7)\n",
      "Hello from the pygame community. https://www.pygame.org/contribute.html\n"
     ]
    },
    {
     "ename": "SystemExit",
     "evalue": "",
     "output_type": "error",
     "traceback": [
      "An exception has occurred, use %tb to see the full traceback.\n",
      "\u001b[1;31mSystemExit\u001b[0m\n"
     ]
    },
    {
     "name": "stderr",
     "output_type": "stream",
     "text": [
      "C:\\Users\\Raja\\AppData\\Roaming\\Python\\Python310\\site-packages\\IPython\\core\\interactiveshell.py:3386: UserWarning: To exit: use 'exit', 'quit', or Ctrl-D.\n",
      "  warn(\"To exit: use 'exit', 'quit', or Ctrl-D.\", stacklevel=1)\n"
     ]
    },
    {
     "ename": "",
     "evalue": "",
     "output_type": "error",
     "traceback": [
      "\u001b[1;31mThe Kernel crashed while executing code in the the current cell or a previous cell. Please review the code in the cell(s) to identify a possible cause of the failure. Click <a href='https://aka.ms/vscodeJupyterKernelCrash'>here</a> for more info. View Jupyter <a href='command:jupyter.viewOutput'>log</a> for further details."
     ]
    }
   ],
   "source": [
    "import pygame\n",
    "from pygame.sprite import Group\n",
    "\n",
    "from settings import Settings\n",
    "from game_stats import GameStats\n",
    "from scoreboard import Scoreboard\n",
    "from button import Button\n",
    "from ship import Ship\n",
    "import game_functions as gf\n",
    "\n",
    "\n",
    "def run_game():\n",
    "   \n",
    "    pygame.init()\n",
    "    ai_settings = Settings()\n",
    "    screen = pygame.display.set_mode(\n",
    "        (ai_settings.screen_width, ai_settings.screen_height)\n",
    "    )\n",
    "    pygame.display.set_caption(\"Alien Invasion\")\n",
    "\n",
    "    \n",
    "    play_button = Button(ai_settings, screen, \"Play\")\n",
    "\n",
    "    \n",
    "    stats = GameStats(ai_settings)\n",
    "    sb = Scoreboard(ai_settings, screen, stats)\n",
    "\n",
    "    \n",
    "\n",
    "    \n",
    "    ship = Ship(ai_settings, screen)\n",
    "    bullets = Group()\n",
    "    aliens = Group()\n",
    "\n",
    "    \n",
    "    gf.create_fleet(ai_settings, screen, ship, aliens)\n",
    "\n",
    "    \n",
    "    while True:\n",
    "        gf.check_events(\n",
    "            ai_settings, screen, stats, sb, play_button, ship, aliens, bullets\n",
    "        )\n",
    "\n",
    "        if stats.game_active:\n",
    "            ship.update()\n",
    "            gf.update_bullets(ai_settings, screen, stats, sb, ship, aliens, bullets)\n",
    "            gf.update_aliens(ai_settings, screen, stats, sb, ship, aliens, bullets)\n",
    "\n",
    "        gf.update_screen(\n",
    "            ai_settings, screen, stats, sb, ship, aliens, bullets, play_button\n",
    "        )\n",
    "\n",
    "\n",
    "run_game()"
   ]
  }
 ],
 "metadata": {
  "kernelspec": {
   "display_name": "Python 3.10.7 64-bit",
   "language": "python",
   "name": "python3"
  },
  "language_info": {
   "codemirror_mode": {
    "name": "ipython",
    "version": 3
   },
   "file_extension": ".py",
   "mimetype": "text/x-python",
   "name": "python",
   "nbconvert_exporter": "python",
   "pygments_lexer": "ipython3",
   "version": "3.10.7"
  },
  "orig_nbformat": 4,
  "vscode": {
   "interpreter": {
    "hash": "5868cae2ba662c6375216d195b7526ff910cb4ee64e9ead123d0039383cd46cb"
   }
  }
 },
 "nbformat": 4,
 "nbformat_minor": 2
}
